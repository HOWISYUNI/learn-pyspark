{
 "cells": [
  {
   "cell_type": "code",
   "execution_count": 13,
   "id": "42393949-0d35-4b18-9dcd-10bde31ade92",
   "metadata": {},
   "outputs": [
    {
     "name": "stdout",
     "output_type": "stream",
     "text": [
      "== Physical Plan ==\n",
      "Scan text  (1)\n",
      "\n",
      "\n",
      "(1) Scan text \n",
      "Output [1]: [value#134]\n",
      "Batched: false\n",
      "Location: InMemoryFileIndex [file:/home/jovyan/work/sample/lorem_ipsum.txt]\n",
      "ReadSchema: struct<value:string>\n",
      "\n",
      "\n"
     ]
    }
   ],
   "source": [
    "from pyspark.sql import (\n",
    "    functions as f,\n",
    "    SparkSession,\n",
    "    types as t\n",
    ")\n",
    "\n",
    "spark = SparkSession.builder.appName(\"logical_plan_and_physical_plan\").getOrCreate()\n",
    "\n",
    "######################\n",
    "# code block 1 - Job #\n",
    "######################\n",
    "file_path = \"file:///home/jovyan/work/sample/lorem_ipsum.txt\"\n",
    "df = spark.read.text(file_path)\n",
    "df.explain(mode=\"formatted\")"
   ]
  },
  {
   "cell_type": "code",
   "execution_count": 17,
   "id": "6189eecc-74e7-4f9c-82a9-be8e12c2ad78",
   "metadata": {},
   "outputs": [
    {
     "name": "stdout",
     "output_type": "stream",
     "text": [
      "== Parsed Logical Plan ==\n",
      "'Aggregate ['word], ['word, count(1) AS count#160L]\n",
      "+- Project [word#156]\n",
      "   +- Generate explode(split(value#134,  , -1)), false, [word#156]\n",
      "      +- Relation [value#134] text\n",
      "\n",
      "== Analyzed Logical Plan ==\n",
      "word: string, count: bigint\n",
      "Aggregate [word#156], [word#156, count(1) AS count#160L]\n",
      "+- Project [word#156]\n",
      "   +- Generate explode(split(value#134,  , -1)), false, [word#156]\n",
      "      +- Relation [value#134] text\n",
      "\n",
      "== Optimized Logical Plan ==\n",
      "Aggregate [word#156], [word#156, count(1) AS count#160L]\n",
      "+- Generate explode(split(value#134,  , -1)), [0], false, [word#156]\n",
      "   +- Relation [value#134] text\n",
      "\n",
      "== Physical Plan ==\n",
      "AdaptiveSparkPlan isFinalPlan=false\n",
      "+- HashAggregate(keys=[word#156], functions=[count(1)], output=[word#156, count#160L])\n",
      "   +- Exchange hashpartitioning(word#156, 200), ENSURE_REQUIREMENTS, [plan_id=342]\n",
      "      +- HashAggregate(keys=[word#156], functions=[partial_count(1)], output=[word#156, count#164L])\n",
      "         +- Generate explode(split(value#134,  , -1)), false, [word#156]\n",
      "            +- FileScan text [value#134] Batched: false, DataFilters: [], Format: Text, Location: InMemoryFileIndex(1 paths)[file:/home/jovyan/work/sample/lorem_ipsum.txt], PartitionFilters: [], PushedFilters: [], ReadSchema: struct<value:string>\n",
      "\n"
     ]
    }
   ],
   "source": [
    "######################\n",
    "# code block 2 - Job #\n",
    "######################\n",
    "words = df.select(\n",
    "    f.explode(\n",
    "        f.split(df.value, ' ')).alias(\"word\"))\n",
    "\n",
    "word_counts = words.groupBy(\"word\").count()\n",
    "\n",
    "word_counts.explain(extended=True)"
   ]
  },
  {
   "cell_type": "code",
   "execution_count": 15,
   "id": "3e5ea44d-4548-420c-815e-b699a5be8c23",
   "metadata": {},
   "outputs": [
    {
     "name": "stdout",
     "output_type": "stream",
     "text": [
      "== Physical Plan ==\n",
      "AdaptiveSparkPlan (6)\n",
      "+- HashAggregate (5)\n",
      "   +- Exchange (4)\n",
      "      +- HashAggregate (3)\n",
      "         +- Generate (2)\n",
      "            +- Scan text  (1)\n",
      "\n",
      "\n",
      "(1) Scan text \n",
      "Output [1]: [value#134]\n",
      "Batched: false\n",
      "Location: InMemoryFileIndex [file:/home/jovyan/work/sample/lorem_ipsum.txt]\n",
      "ReadSchema: struct<value:string>\n",
      "\n",
      "(2) Generate\n",
      "Input [1]: [value#134]\n",
      "Arguments: explode(split(value#134,  , -1)), false, [word#137]\n",
      "\n",
      "(3) HashAggregate\n",
      "Input [1]: [word#137]\n",
      "Keys [1]: [word#137]\n",
      "Functions [1]: [partial_count(1)]\n",
      "Aggregate Attributes [1]: [count#145L]\n",
      "Results [2]: [word#137, count#146L]\n",
      "\n",
      "(4) Exchange\n",
      "Input [2]: [word#137, count#146L]\n",
      "Arguments: hashpartitioning(word#137, 200), ENSURE_REQUIREMENTS, [plan_id=325]\n",
      "\n",
      "(5) HashAggregate\n",
      "Input [2]: [word#137, count#146L]\n",
      "Keys [1]: [word#137]\n",
      "Functions [1]: [count(1)]\n",
      "Aggregate Attributes [1]: [count(1)#141L]\n",
      "Results [2]: [word#137, count(1)#141L AS count#142L]\n",
      "\n",
      "(6) AdaptiveSparkPlan\n",
      "Output [2]: [word#137, count#142L]\n",
      "Arguments: isFinalPlan=false\n",
      "\n",
      "\n"
     ]
    }
   ],
   "source": [
    "word_counts.explain(mode=\"formatted\")\n",
    "# word_counts.show()"
   ]
  }
 ],
 "metadata": {
  "kernelspec": {
   "display_name": "Python 3 (ipykernel)",
   "language": "python",
   "name": "python3"
  },
  "language_info": {
   "codemirror_mode": {
    "name": "ipython",
    "version": 3
   },
   "file_extension": ".py",
   "mimetype": "text/x-python",
   "name": "python",
   "nbconvert_exporter": "python",
   "pygments_lexer": "ipython3",
   "version": "3.10.8"
  },
  "vscode": {
   "interpreter": {
    "hash": "aee8b7b246df8f9039afb4144a1f6fd8d2ca17a180786b69acc140d282b71a49"
   }
  }
 },
 "nbformat": 4,
 "nbformat_minor": 5
}
