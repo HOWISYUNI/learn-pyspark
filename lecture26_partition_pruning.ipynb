{
 "cells": [
  {
   "cell_type": "code",
   "execution_count": 1,
   "id": "d668d556-dc76-4b3f-af10-b5c2909b38a3",
   "metadata": {},
   "outputs": [],
   "source": [
    "import pyspark\n",
    "from pyspark.sql import (\n",
    "    functions as f,\n",
    "    SparkSession,\n",
    "    types as t\n",
    ")\n",
    "\n",
    "conf = pyspark.SparkConf().setAll([('spark.sql.optimizer.dynamicPartitionPruning.enabled', 'true')])\n",
    "spark = SparkSession.builder.appName(\"partition_pruning\").config(conf=conf).getOrCreate()\n",
    "\n",
    "table_schema = t.StructType([\n",
    "    t.StructField(\"date\", t.StringType(), True),\n",
    "    t.StructField(\"name\", t.StringType(), True),\n",
    "    t.StructField(\"region\", t.IntegerType(), True),\n",
    "    t.StructField(\"price\", t.IntegerType(), True)])\n",
    "\n",
    "csv_file_path = \"file:///home/jovyan/work/sample/ecommerce_order.csv\"\n",
    "df = spark.read.schema(table_schema).csv(csv_file_path)\n",
    "\n",
    "df.write\\\n",
    "    .partitionBy(\"region\")\\\n",
    "    .mode(\"overwrite\")\\\n",
    "    .parquet(\"/home/jovyan/work/output/partition_pruning\")"
   ]
  },
  {
   "cell_type": "code",
   "execution_count": 2,
   "id": "609a2b74-7749-4a2c-a81d-7be09f2cc739",
   "metadata": {},
   "outputs": [],
   "source": [
    "\n",
    "read_df = spark.read.parquet(\"/home/jovyan/work/output/partition_pruning\")\n",
    "sales_total_df = read_df.where(\"region==2\")\\\n",
    "                    .agg(\n",
    "                        f.round(\n",
    "                            f.sum(\"price\"),\n",
    "                            2\n",
    "                        ).alias(\"sales\"))"
   ]
  },
  {
   "cell_type": "code",
   "execution_count": 3,
   "id": "4e3396e0-b7bd-4c82-bca3-25cfc4f31853",
   "metadata": {},
   "outputs": [
    {
     "name": "stdout",
     "output_type": "stream",
     "text": [
      "== Physical Plan ==\n",
      "AdaptiveSparkPlan (6)\n",
      "+- HashAggregate (5)\n",
      "   +- Exchange (4)\n",
      "      +- HashAggregate (3)\n",
      "         +- Project (2)\n",
      "            +- Scan parquet  (1)\n",
      "\n",
      "\n",
      "(1) Scan parquet \n",
      "Output [2]: [price#19, region#20]\n",
      "Batched: true\n",
      "Location: InMemoryFileIndex [file:/home/jovyan/work/output/partition_pruning]\n",
      "PartitionFilters: [isnotnull(region#20), (region#20 = 2)]\n",
      "ReadSchema: struct<price:int>\n",
      "\n",
      "(2) Project\n",
      "Output [1]: [price#19]\n",
      "Input [2]: [price#19, region#20]\n",
      "\n",
      "(3) HashAggregate\n",
      "Input [1]: [price#19]\n",
      "Keys: []\n",
      "Functions [1]: [partial_sum(price#19)]\n",
      "Aggregate Attributes [1]: [sum#33L]\n",
      "Results [1]: [sum#34L]\n",
      "\n",
      "(4) Exchange\n",
      "Input [1]: [sum#34L]\n",
      "Arguments: SinglePartition, ENSURE_REQUIREMENTS, [plan_id=22]\n",
      "\n",
      "(5) HashAggregate\n",
      "Input [1]: [sum#34L]\n",
      "Keys: []\n",
      "Functions [1]: [sum(price#19)]\n",
      "Aggregate Attributes [1]: [sum(price#19)#26L]\n",
      "Results [1]: [round(sum(price#19)#26L, 2) AS sales#27L]\n",
      "\n",
      "(6) AdaptiveSparkPlan\n",
      "Output [1]: [sales#27L]\n",
      "Arguments: isFinalPlan=false\n",
      "\n",
      "\n"
     ]
    }
   ],
   "source": [
    "sales_total_df.explain(mode=\"formatted\")"
   ]
  },
  {
   "cell_type": "code",
   "execution_count": 5,
   "id": "a27fe876-9d14-4e8c-9b0e-60df921a48a8",
   "metadata": {},
   "outputs": [
    {
     "name": "stdout",
     "output_type": "stream",
     "text": [
      "+-------+\n",
      "|  sales|\n",
      "+-------+\n",
      "|4868952|\n",
      "+-------+\n",
      "\n"
     ]
    }
   ],
   "source": [
    "sales_total_df.show()"
   ]
  },
  {
   "cell_type": "code",
   "execution_count": 6,
   "id": "3150a4e9-ebff-4aa9-9732-2aee35389dc5",
   "metadata": {},
   "outputs": [],
   "source": [
    "csv_file_path = \"file:///home/jovyan/work/sample/ecommerce_region.csv\"\n",
    "region_df = spark.read\\\n",
    "            .option(\"header\", \"true\")\\\n",
    "            .option(\"inferSchema\", \"true\")\\\n",
    "            .csv(csv_file_path)"
   ]
  },
  {
   "cell_type": "code",
   "execution_count": 10,
   "id": "b9b78a8b-a326-421b-a61d-230a97143981",
   "metadata": {},
   "outputs": [],
   "source": [
    "# before broadcasting\n",
    "joined_df = read_df.join(region_df,\n",
    "               read_df.region == region_df.region_id,\n",
    "               \"inner\")\\\n",
    "        .where(region_df.city == \"San Francisco\")"
   ]
  },
  {
   "cell_type": "code",
   "execution_count": 11,
   "id": "4a8e7dd3-dcb3-40ef-948a-8e3b74baf3df",
   "metadata": {},
   "outputs": [
    {
     "name": "stdout",
     "output_type": "stream",
     "text": [
      "+----------+----------------+-----+------+---------+-------------+\n",
      "|      date|            name|price|region|region_id|         city|\n",
      "+----------+----------------+-----+------+---------+-------------+\n",
      "|2022-04-03|    Tory Delgado| 2158|     1|        1|San Francisco|\n",
      "|2022-05-24|   Jene Franklin| 3643|     1|        1|San Francisco|\n",
      "|2022-05-28|     Kasey Wolfe| 1236|     1|        1|San Francisco|\n",
      "|2022-10-07|  Walton Kennedy| 2381|     1|        1|San Francisco|\n",
      "|2022-10-06|Lakiesha Jimenez| 2629|     1|        1|San Francisco|\n",
      "|2022-06-13| Piedad Williams| 1670|     1|        1|San Francisco|\n",
      "|2022-12-13|    Elvina Grant| 2459|     1|        1|San Francisco|\n",
      "|2022-10-27|   Cristie Stone| 3325|     1|        1|San Francisco|\n",
      "|2022-07-03|     Lacy Flores| 1013|     1|        1|San Francisco|\n",
      "|2022-01-01|   Kathey Little| 2293|     1|        1|San Francisco|\n",
      "|2022-04-13|        Fe Reyes| 2438|     1|        1|San Francisco|\n",
      "|2022-06-23|   Apryl Holland| 3003|     1|        1|San Francisco|\n",
      "|2022-07-13|  Doloris Farmer| 3471|     1|        1|San Francisco|\n",
      "|2022-07-12| Merrie Erickson| 3584|     1|        1|San Francisco|\n",
      "|2022-09-17|     Ilda Turner| 2068|     1|        1|San Francisco|\n",
      "|2022-03-20|   Porter Sutton| 1543|     1|        1|San Francisco|\n",
      "|2022-02-10|Garfield Gardner| 2425|     1|        1|San Francisco|\n",
      "|2022-07-25|      Janay Gill| 3621|     1|        1|San Francisco|\n",
      "|2022-01-11|   Benton Brooks| 1271|     1|        1|San Francisco|\n",
      "|2022-02-07|  Cleora Baldwin| 1126|     1|        1|San Francisco|\n",
      "+----------+----------------+-----+------+---------+-------------+\n",
      "only showing top 20 rows\n",
      "\n"
     ]
    }
   ],
   "source": [
    "joined_df.show()"
   ]
  },
  {
   "cell_type": "code",
   "execution_count": 7,
   "id": "396c1b26-2482-4bba-88e8-6917be924cbf",
   "metadata": {},
   "outputs": [],
   "source": [
    "# after broadcasting\n",
    "read_df = spark.read.parquet(\"/home/jovyan/work/output/partition_pruning\")\n",
    "joined_df = read_df.join(f.broadcast(region_df),\n",
    "               read_df.region == region_df.region_id,\n",
    "               \"inner\")\\\n",
    "        .where(region_df.city == \"San Francisco\")"
   ]
  },
  {
   "cell_type": "code",
   "execution_count": 8,
   "id": "712060b7-119c-428d-b92f-b711106fca8d",
   "metadata": {},
   "outputs": [
    {
     "name": "stdout",
     "output_type": "stream",
     "text": [
      "+----------+----------------+-----+------+---------+-------------+\n",
      "|      date|            name|price|region|region_id|         city|\n",
      "+----------+----------------+-----+------+---------+-------------+\n",
      "|2022-04-03|    Tory Delgado| 2158|     1|        1|San Francisco|\n",
      "|2022-05-24|   Jene Franklin| 3643|     1|        1|San Francisco|\n",
      "|2022-05-28|     Kasey Wolfe| 1236|     1|        1|San Francisco|\n",
      "|2022-10-07|  Walton Kennedy| 2381|     1|        1|San Francisco|\n",
      "|2022-10-06|Lakiesha Jimenez| 2629|     1|        1|San Francisco|\n",
      "|2022-06-13| Piedad Williams| 1670|     1|        1|San Francisco|\n",
      "|2022-12-13|    Elvina Grant| 2459|     1|        1|San Francisco|\n",
      "|2022-10-27|   Cristie Stone| 3325|     1|        1|San Francisco|\n",
      "|2022-07-03|     Lacy Flores| 1013|     1|        1|San Francisco|\n",
      "|2022-01-01|   Kathey Little| 2293|     1|        1|San Francisco|\n",
      "|2022-04-13|        Fe Reyes| 2438|     1|        1|San Francisco|\n",
      "|2022-06-23|   Apryl Holland| 3003|     1|        1|San Francisco|\n",
      "|2022-07-13|  Doloris Farmer| 3471|     1|        1|San Francisco|\n",
      "|2022-07-12| Merrie Erickson| 3584|     1|        1|San Francisco|\n",
      "|2022-09-17|     Ilda Turner| 2068|     1|        1|San Francisco|\n",
      "|2022-03-20|   Porter Sutton| 1543|     1|        1|San Francisco|\n",
      "|2022-02-10|Garfield Gardner| 2425|     1|        1|San Francisco|\n",
      "|2022-07-25|      Janay Gill| 3621|     1|        1|San Francisco|\n",
      "|2022-01-11|   Benton Brooks| 1271|     1|        1|San Francisco|\n",
      "|2022-02-07|  Cleora Baldwin| 1126|     1|        1|San Francisco|\n",
      "+----------+----------------+-----+------+---------+-------------+\n",
      "only showing top 20 rows\n",
      "\n"
     ]
    }
   ],
   "source": [
    "joined_df.show()"
   ]
  },
  {
   "cell_type": "code",
   "execution_count": 11,
   "id": "da058e8b-0dbf-40f2-94e4-99980abd5381",
   "metadata": {},
   "outputs": [
    {
     "name": "stdout",
     "output_type": "stream",
     "text": [
      "== Physical Plan ==\n",
      "AdaptiveSparkPlan (6)\n",
      "+- BroadcastHashJoin Inner BuildRight (5)\n",
      "   :- Scan parquet  (1)\n",
      "   +- BroadcastExchange (4)\n",
      "      +- Filter (3)\n",
      "         +- Scan csv  (2)\n",
      "\n",
      "\n",
      "(1) Scan parquet \n",
      "Output [4]: [date#70, name#71, price#72, region#73]\n",
      "Batched: true\n",
      "Location: InMemoryFileIndex [file:/home/jovyan/work/output/partition_pruning]\n",
      "PartitionFilters: [isnotnull(region#73), dynamicpruningexpression(region#73 IN dynamicpruning#121)]\n",
      "ReadSchema: struct<date:string,name:string,price:int>\n",
      "\n",
      "(2) Scan csv \n",
      "Output [2]: [region_id#66, city#67]\n",
      "Batched: false\n",
      "Location: InMemoryFileIndex [file:/home/jovyan/work/sample/ecommerce_region.csv]\n",
      "PushedFilters: [IsNotNull(city), EqualTo(city,San Francisco), IsNotNull(region_id)]\n",
      "ReadSchema: struct<region_id:int,city:string>\n",
      "\n",
      "(3) Filter\n",
      "Input [2]: [region_id#66, city#67]\n",
      "Condition : ((isnotnull(city#67) AND (city#67 = San Francisco)) AND isnotnull(region_id#66))\n",
      "\n",
      "(4) BroadcastExchange\n",
      "Input [2]: [region_id#66, city#67]\n",
      "Arguments: HashedRelationBroadcastMode(List(cast(input[0, int, false] as bigint)),false), [plan_id=266]\n",
      "\n",
      "(5) BroadcastHashJoin\n",
      "Left keys [1]: [region#73]\n",
      "Right keys [1]: [region_id#66]\n",
      "Join condition: None\n",
      "\n",
      "(6) AdaptiveSparkPlan\n",
      "Output [6]: [date#70, name#71, price#72, region#73, region_id#66, city#67]\n",
      "Arguments: isFinalPlan=false\n",
      "\n",
      "===== Subqueries =====\n",
      "\n",
      "Subquery:1 Hosting operator id = 1 Hosting Expression = region#73 IN dynamicpruning#121\n",
      "AdaptiveSparkPlan (9)\n",
      "+- Filter (8)\n",
      "   +- Scan csv  (7)\n",
      "\n",
      "\n",
      "(7) Scan csv \n",
      "Output [2]: [region_id#66, city#67]\n",
      "Batched: false\n",
      "Location: InMemoryFileIndex [file:/home/jovyan/work/sample/ecommerce_region.csv]\n",
      "PushedFilters: [IsNotNull(city), EqualTo(city,San Francisco), IsNotNull(region_id)]\n",
      "ReadSchema: struct<region_id:int,city:string>\n",
      "\n",
      "(8) Filter\n",
      "Input [2]: [region_id#66, city#67]\n",
      "Condition : ((isnotnull(city#67) AND (city#67 = San Francisco)) AND isnotnull(region_id#66))\n",
      "\n",
      "(9) AdaptiveSparkPlan\n",
      "Output [2]: [region_id#66, city#67]\n",
      "Arguments: isFinalPlan=false\n",
      "\n",
      "\n",
      "\n"
     ]
    }
   ],
   "source": [
    "joined_df.explain(mode=\"formatted\")"
   ]
  },
  {
   "cell_type": "code",
   "execution_count": null,
   "id": "b9a3cd1a-9135-4622-b506-93e60a15c5e3",
   "metadata": {},
   "outputs": [],
   "source": []
  }
 ],
 "metadata": {
  "kernelspec": {
   "display_name": "Python 3.10.7 64-bit",
   "language": "python",
   "name": "python3"
  },
  "language_info": {
   "codemirror_mode": {
    "name": "ipython",
    "version": 3
   },
   "file_extension": ".py",
   "mimetype": "text/x-python",
   "name": "python",
   "nbconvert_exporter": "python",
   "pygments_lexer": "ipython3",
   "version": "3.10.7"
  },
  "vscode": {
   "interpreter": {
    "hash": "aee8b7b246df8f9039afb4144a1f6fd8d2ca17a180786b69acc140d282b71a49"
   }
  }
 },
 "nbformat": 4,
 "nbformat_minor": 5
}
