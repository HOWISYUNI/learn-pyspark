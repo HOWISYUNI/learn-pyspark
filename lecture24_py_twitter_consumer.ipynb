{
 "cells": [
  {
   "cell_type": "code",
   "execution_count": null,
   "id": "b176d7ab-f1cf-46fa-bb10-697261a23b03",
   "metadata": {},
   "outputs": [],
   "source": [
    "# Go to https://apps.twitter.com\n",
    "\n",
    "# Create the application & save all the credentials\n",
    "\n",
    "# Go to your termial & install `pip3 install tweepy==3.10.0`\n",
    "\n",
    "# pip3 install matplotlib seaborn pandas"
   ]
  },
  {
   "cell_type": "code",
   "execution_count": null,
   "id": "7e26f37f-c5dc-47ba-b548-5fb58429dc1f",
   "metadata": {},
   "outputs": [],
   "source": [
    "import tweepy\n",
    "from tweepy.auth import OAuthHandler\n",
    "from tweepy import Stream\n",
    "from tweepy.streaming import StreamListener\n",
    "import socket\n",
    "import json\n",
    "\n",
    "CONSUMER_KEY = \"hcXVAcyByg1Y5QZUsnutDrnu0\"\n",
    "CONSUMER_SECRET = \"megjbliXmLJSFuMGe9caR1UUSDfEicYWSfYQgxhZZTu2DJXD4z\"\n",
    "ACCESS_TOKEN = \"167472125-SdLWdsbgfQ8MVMDr8j2VbMqUjDinOGt2LkYYeAPT\"\n",
    "ACCESS_TOKEN_SECRET = \"yGHmATDVHDGT3lYP7IL4EHES4A89vD5FeiySsTiYSLfFi\"\n",
    "\n",
    "class TweetsListener(StreamListener):\n",
    "    def __init__(self, csocket):\n",
    "        self.client_socket = csocket\n",
    "\n",
    "    def on_data(self, data):\n",
    "        try:\n",
    "            message = json.loads( data )\n",
    "            print(message['text'].encode('utf-8'))\n",
    "            self.client_socket.send( message['text'].encode('utf-8') )\n",
    "            return True\n",
    "        except BaseException as e:\n",
    "            print(\"Error on_data: %s\" % str(e))\n",
    "        return True\n",
    "\n",
    "    def on_error(self, status):\n",
    "        print(status)\n",
    "        return True\n",
    "    \n",
    "def send_tweets(c_socket):\n",
    "    auth = OAuthHandler(CONSUMER_KEY, CONSUMER_SECRET)\n",
    "    auth.set_access_token(ACCESS_TOKEN, ACCESS_TOKEN_SECRET)\n",
    "    \n",
    "    twitter_stream = Stream(auth, TweetsListener(c_socket))\n",
    "    twitter_stream.filter(track=['tesla'])\n",
    "\n",
    "if __name__ == \"__main__\":\n",
    "    sck = socket.socket()         # initiate a socket object\n",
    "    host = \"127.0.0.1\"     # local machine address\n",
    "    port = 5555                 # specific port for your service.\n",
    "    sck.bind((host, port))        # Binding host and port\n",
    "\n",
    "    print(\"Now listening on port: %s\" % str(port))\n",
    "\n",
    "    sck.listen(5)                 #  waiting for client connection.\n",
    "    c, addr = sck.accept()        # Establish connection with client. it returns first a socket object,c, and the address bound to the socket\n",
    "\n",
    "    print(\"Received request from: \" + str(addr))\n",
    "    # and after accepting the connection, we aill sent the tweets through the socket\n",
    "    send_tweets(c)"
   ]
  }
 ],
 "metadata": {
  "kernelspec": {
   "display_name": "Python 3.11.0 64-bit ('3.11.0')",
   "language": "python",
   "name": "python3"
  },
  "language_info": {
   "codemirror_mode": {
    "name": "ipython",
    "version": 3
   },
   "file_extension": ".py",
   "mimetype": "text/x-python",
   "name": "python",
   "nbconvert_exporter": "python",
   "pygments_lexer": "ipython3",
   "version": "3.11.0"
  },
  "vscode": {
   "interpreter": {
    "hash": "7aee267497cccb43a93c6a1201a93bda771ec03cc7be829e3a4dfcfcd41c9234"
   }
  }
 },
 "nbformat": 4,
 "nbformat_minor": 5
}
